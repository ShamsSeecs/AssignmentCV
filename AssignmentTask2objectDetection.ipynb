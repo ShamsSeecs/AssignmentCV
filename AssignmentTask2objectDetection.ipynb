{
  "nbformat": 4,
  "nbformat_minor": 5,
  "metadata": {
    "kernelspec": {
      "display_name": "Python 3",
      "language": "python",
      "name": "python3"
    },
    "language_info": {
      "codemirror_mode": {
        "name": "ipython",
        "version": 3
      },
      "file_extension": ".py",
      "mimetype": "text/x-python",
      "name": "python",
      "nbconvert_exporter": "python",
      "pygments_lexer": "ipython3",
      "version": "3.7.11"
    },
    "colab": {
      "name": "Assignment.ipynb",
      "provenance": []
    }
  },
  "cells": [
    {
      "cell_type": "markdown",
      "metadata": {
        "id": "LgwUNEHXPTas"
      },
      "source": [
        "## Installation <a name=\"install\"></a>"
      ],
      "id": "LgwUNEHXPTas"
    },
    {
      "cell_type": "code",
      "metadata": {
        "scrolled": true,
        "colab": {
          "base_uri": "https://localhost:8080/"
        },
        "id": "rDsKdrI5PTat",
        "outputId": "a925c502-3f13-4280-bc91-8dd7a10ef8d8"
      },
      "source": [
        "! pip uninstall opencv-python -y\n",
        "! pip uninstall opencv-contrib-python -y\n",
        "! pip install opencv-python==3.4.11.45\n",
        "! pip install opencv-contrib-python==3.4.11.45\n",
        "! pip install tqdm"
      ],
      "id": "rDsKdrI5PTat",
      "execution_count": 2,
      "outputs": [
        {
          "output_type": "stream",
          "name": "stdout",
          "text": [
            "Found existing installation: opencv-python 4.1.2.30\n",
            "Uninstalling opencv-python-4.1.2.30:\n",
            "  Successfully uninstalled opencv-python-4.1.2.30\n",
            "Found existing installation: opencv-contrib-python 4.1.2.30\n",
            "Uninstalling opencv-contrib-python-4.1.2.30:\n",
            "  Successfully uninstalled opencv-contrib-python-4.1.2.30\n",
            "Collecting opencv-python==3.4.11.45\n",
            "  Downloading opencv_python-3.4.11.45-cp37-cp37m-manylinux2014_x86_64.whl (49.1 MB)\n",
            "\u001b[K     |████████████████████████████████| 49.1 MB 34 kB/s \n",
            "\u001b[?25hRequirement already satisfied: numpy>=1.14.5 in /usr/local/lib/python3.7/dist-packages (from opencv-python==3.4.11.45) (1.19.5)\n",
            "Installing collected packages: opencv-python\n",
            "\u001b[31mERROR: pip's dependency resolver does not currently take into account all the packages that are installed. This behaviour is the source of the following dependency conflicts.\n",
            "albumentations 0.1.12 requires imgaug<0.2.7,>=0.2.5, but you have imgaug 0.2.9 which is incompatible.\u001b[0m\n",
            "Successfully installed opencv-python-3.4.11.45\n",
            "Collecting opencv-contrib-python==3.4.11.45\n",
            "  Downloading opencv_contrib_python-3.4.11.45-cp37-cp37m-manylinux2014_x86_64.whl (54.7 MB)\n",
            "\u001b[K     |████████████████████████████████| 54.7 MB 53 kB/s \n",
            "\u001b[?25hRequirement already satisfied: numpy>=1.14.5 in /usr/local/lib/python3.7/dist-packages (from opencv-contrib-python==3.4.11.45) (1.19.5)\n",
            "Installing collected packages: opencv-contrib-python\n",
            "Successfully installed opencv-contrib-python-3.4.11.45\n",
            "Requirement already satisfied: tqdm in /usr/local/lib/python3.7/dist-packages (4.62.3)\n"
          ]
        }
      ]
    },
    {
      "cell_type": "code",
      "metadata": {
        "id": "gUdj1a0dg1iy"
      },
      "source": [
        ""
      ],
      "id": "gUdj1a0dg1iy",
      "execution_count": null,
      "outputs": []
    },
    {
      "cell_type": "code",
      "metadata": {
        "colab": {
          "base_uri": "https://localhost:8080/"
        },
        "id": "RWSJpsyKqHjH",
        "outputId": "41f9c7c7-2dfb-4b5f-c26b-1d6d23728423"
      },
      "source": [
        "from google.colab import drive\n",
        "drive.mount('/content/drive')"
      ],
      "id": "RWSJpsyKqHjH",
      "execution_count": 3,
      "outputs": [
        {
          "output_type": "stream",
          "name": "stdout",
          "text": [
            "Mounted at /content/drive\n"
          ]
        }
      ]
    },
    {
      "cell_type": "markdown",
      "metadata": {
        "id": "GUr9ywKcPTav"
      },
      "source": [
        "## Imports <a name=\"imports\"></a>"
      ],
      "id": "GUr9ywKcPTav"
    },
    {
      "cell_type": "code",
      "metadata": {
        "id": "9cZL7amQPTaw"
      },
      "source": [
        "import argparse\n",
        "import cv2\n",
        "import numpy as np \n",
        "import os\n",
        "from sklearn.cluster import KMeans\n",
        "from sklearn.svm import SVC\n",
        "from sklearn.preprocessing import StandardScaler\n",
        "from matplotlib import pyplot as plt\n",
        "from sklearn import svm, datasets\n",
        "from sklearn.model_selection import train_test_split\n",
        "from sklearn.metrics import confusion_matrix\n",
        "from sklearn.utils.multiclass import unique_labels\n",
        "from sklearn.metrics.pairwise import chi2_kernel\n",
        "from sklearn.model_selection import GridSearchCV\n",
        "from sklearn.metrics import accuracy_score\n",
        "from tqdm import tqdm\n",
        "import time"
      ],
      "id": "9cZL7amQPTaw",
      "execution_count": 4,
      "outputs": []
    },
    {
      "cell_type": "markdown",
      "metadata": {
        "id": "mBuZne9aPTax"
      },
      "source": [
        "## Util Functions"
      ],
      "id": "mBuZne9aPTax"
    },
    {
      "cell_type": "code",
      "metadata": {
        "id": "6mJGhHnEPTax"
      },
      "source": [
        "def show(img):\n",
        "    io.imshow(img)\n",
        "    plt.show()"
      ],
      "id": "6mJGhHnEPTax",
      "execution_count": 5,
      "outputs": []
    },
    {
      "cell_type": "markdown",
      "metadata": {
        "id": "kk7vTkiFPTaz"
      },
      "source": [
        "### Bag of Visual Words Utilities <a name=\"bovw_util\"></a>"
      ],
      "id": "kk7vTkiFPTaz"
    },
    {
      "cell_type": "code",
      "metadata": {
        "id": "C3wsLAo5PTa0"
      },
      "source": [
        "def getFiles(train, path):\n",
        "    images = []\n",
        "    count = 0\n",
        "    for folder in os.listdir(path):\n",
        "        for file in  os.listdir(os.path.join(path, folder)):\n",
        "            images.append(os.path.join(path, os.path.join(folder, file)))\n",
        "\n",
        "    if(train is True):\n",
        "        np.random.shuffle(images)\n",
        "    \n",
        "    return images\n",
        "\n",
        "def getDescriptors(sift, img):\n",
        "    kp, des = sift.detectAndCompute(img, None)\n",
        "    return des\n",
        "\n",
        "def readImage(img_path):\n",
        "    img = cv2.imread(img_path, 0)\n",
        "    return cv2.resize(img,(150,150))\n",
        "\n",
        "def vstackDescriptors(descriptor_list):\n",
        "    descriptors = np.array(descriptor_list[0])\n",
        "    for descriptor in descriptor_list[1:]:\n",
        "        descriptors = np.vstack((descriptors, descriptor)) \n",
        "\n",
        "    return descriptors\n",
        "\n",
        "def clusterDescriptors(descriptors, no_clusters):\n",
        "    kmeans = KMeans(n_clusters = no_clusters).fit(descriptors)\n",
        "    return kmeans\n",
        "\n",
        "def extractFeatures(kmeans, descriptor_list, image_count, no_clusters):\n",
        "    im_features = np.array([np.zeros(no_clusters) for i in range(image_count)])\n",
        "    for i in range(image_count):\n",
        "        for j in range(len(descriptor_list[i])):\n",
        "            feature = descriptor_list[i][j]\n",
        "            feature = feature.reshape(1, 128)\n",
        "            idx = kmeans.predict(feature)\n",
        "            im_features[i][idx] += 1\n",
        "\n",
        "    return im_features\n",
        "\n",
        "def normalizeFeatures(scale, features):\n",
        "    return scale.transform(features)\n",
        "\n",
        "def plotHistogram(im_features, no_clusters):\n",
        "    x_scalar = np.arange(no_clusters)\n",
        "    y_scalar = np.array([abs(np.sum(im_features[:,h], dtype=np.int32)) for h in range(no_clusters)])\n",
        "\n",
        "    plt.bar(x_scalar, y_scalar)\n",
        "    plt.xlabel(\"Visual Word Index\")\n",
        "    plt.ylabel(\"Frequency\")\n",
        "    plt.title(\"Complete Vocabulary Generated\")\n",
        "    plt.xticks(x_scalar + 0.4, x_scalar)\n",
        "    plt.show()\n",
        "\n",
        "def svcParamSelection(X, y, kernel, nfolds):\n",
        "    Cs = [0.5, 0.1, 0.15, 0.2, 0.3]\n",
        "    gammas = [0.1, 0.11, 0.095, 0.105]\n",
        "    param_grid = {'C': Cs, 'gamma' : gammas}\n",
        "    grid_search = GridSearchCV(SVC(kernel=kernel), param_grid, cv=nfolds)\n",
        "    grid_search.fit(X, y)\n",
        "    grid_search.best_params_\n",
        "    return grid_search.best_params_\n",
        "\n",
        "def findSVM(im_features, train_labels, kernel):\n",
        "    features = im_features\n",
        "    if(kernel == \"precomputed\"):\n",
        "      features = np.dot(im_features, im_features.T)\n",
        "    \n",
        "    params = svcParamSelection(features, train_labels, kernel, 5)\n",
        "    C_param, gamma_param = params.get(\"C\"), params.get(\"gamma\")\n",
        "    print(C_param, gamma_param)\n",
        "    class_weight = {\n",
        "        0: (807 / (7 * 140)),\n",
        "        1: (807 / (7 * 140)),\n",
        "        2: (807 / (7 * 133)),\n",
        "        3: (807 / (7 * 70))\n",
        "    }\n",
        "  \n",
        "    svm = SVC(kernel = kernel, C =  C_param, gamma = gamma_param,class_weight= class_weight)\n",
        "    svm.fit(features, train_labels)\n",
        "    return svm\n",
        "\n",
        "def plotConfusionMatrix(y_true, y_pred, classes,\n",
        "                          normalize=False,\n",
        "                          title=None,\n",
        "                          cmap=plt.cm.Blues):\n",
        "    if not title:\n",
        "        if normalize:\n",
        "            title = 'Normalized confusion matrix'\n",
        "        else:\n",
        "            title = 'Confusion matrix, without normalization'\n",
        "\n",
        "    cm = confusion_matrix(y_true, y_pred)\n",
        "    if normalize:\n",
        "        cm = cm.astype('float') / cm.sum(axis=1)[:, np.newaxis]\n",
        "        print(\"Normalized confusion matrix\")\n",
        "    else:\n",
        "        print('Confusion matrix, without normalization')\n",
        "\n",
        "    print(cm)\n",
        "\n",
        "    fig, ax = plt.subplots()\n",
        "    im = ax.imshow(cm, interpolation='nearest', cmap=cmap)\n",
        "    ax.figure.colorbar(im, ax=ax)\n",
        "    ax.set(xticks=np.arange(cm.shape[1]),\n",
        "           yticks=np.arange(cm.shape[0]),\n",
        "           xticklabels=classes, yticklabels=classes,\n",
        "           title=title,\n",
        "           ylabel='True label',\n",
        "           xlabel='Predicted label')\n",
        "\n",
        "    plt.setp(ax.get_xticklabels(), rotation=45, ha=\"right\",\n",
        "             rotation_mode=\"anchor\")\n",
        "\n",
        "    fmt = '.2f' if normalize else 'd'\n",
        "    thresh = cm.max() / 2.\n",
        "    for i in range(cm.shape[0]):\n",
        "        for j in range(cm.shape[1]):\n",
        "            ax.text(j, i, format(cm[i, j], fmt),\n",
        "                    ha=\"center\", va=\"center\",\n",
        "                    color=\"white\" if cm[i, j] > thresh else \"black\")\n",
        "    fig.tight_layout()\n",
        "    return ax\n",
        "\n",
        "def plotConfusions(true, predictions):\n",
        "    np.set_printoptions(precision=2)\n",
        "\n",
        "    class_names = [\"accordion\", \"dollar_bill\", \"motorbike\", \"Soccer_Ball\"]\n",
        "    plotConfusionMatrix(true, predictions, classes=class_names,\n",
        "                      title='Confusion matrix')\n",
        "\n",
        "    plotConfusionMatrix(true, predictions, classes=class_names, normalize=True,\n",
        "                      title='Normalized confusion matrix')\n",
        "\n",
        "    plt.show()\n",
        "\n",
        "def findAccuracy(true, predictions):\n",
        "    print ('accuracy score: %0.3f' % accuracy_score(true, predictions))"
      ],
      "id": "C3wsLAo5PTa0",
      "execution_count": 36,
      "outputs": []
    },
    {
      "cell_type": "markdown",
      "metadata": {
        "id": "1_JCaPP7PTa3"
      },
      "source": [
        "### Training and Data Prepration <a name=\"bovw_train\"></a>"
      ],
      "id": "1_JCaPP7PTa3"
    },
    {
      "cell_type": "code",
      "metadata": {
        "id": "ksQCOBacPTa4"
      },
      "source": [
        "def trainModel(path, no_clusters, kernel):\n",
        "    images = getFiles(True, path)\n",
        "    print(\"Train images path detected.\")\n",
        "    sift = cv2.xfeatures2d.SIFT_create()\n",
        "    descriptor_list = []\n",
        "    train_labels = np.array([])\n",
        "    label_count = 4\n",
        "    image_count = len(images)\n",
        "\n",
        "    for img_path in images:\n",
        "        if(\"accordion\" in img_path):\n",
        "            class_index = 0\n",
        "        elif(\"dollar_bill\" in img_path):\n",
        "            class_index = 1\n",
        "        elif(\"motorbike\" in img_path):\n",
        "            class_index = 2\n",
        "        elif(\"Soccer_Ball\" in img_path):\n",
        "            class_index = 3\n",
        "\n",
        "        train_labels = np.append(train_labels, class_index)\n",
        "        img = readImage(img_path)\n",
        "        des = getDescriptors(sift, img)\n",
        "        descriptor_list.append(des)\n",
        "\n",
        "    descriptors = vstackDescriptors(descriptor_list)\n",
        "    print(\"Descriptors vstacked.\")\n",
        "\n",
        "    kmeans = clusterDescriptors(descriptors, no_clusters)\n",
        "    print(\"Descriptors clustered.\")\n",
        "\n",
        "    im_features = extractFeatures(kmeans, descriptor_list, image_count, no_clusters)\n",
        "    print(\"Images features extracted.\")\n",
        "\n",
        "    scale = StandardScaler().fit(im_features)        \n",
        "    im_features = scale.transform(im_features)\n",
        "    print(\"Train images normalized.\")\n",
        "\n",
        "    plotHistogram(im_features, no_clusters)\n",
        "    print(\"Features histogram plotted.\")\n",
        "\n",
        "    svm = findSVM(im_features, train_labels, kernel)\n",
        "    print(\"SVM fitted.\")\n",
        "    print(\"Training completed.\")\n",
        "\n",
        "    return kmeans, scale, svm, im_features"
      ],
      "id": "ksQCOBacPTa4",
      "execution_count": 20,
      "outputs": []
    },
    {
      "cell_type": "code",
      "metadata": {
        "colab": {
          "base_uri": "https://localhost:8080/",
          "height": 465
        },
        "id": "LOLT5IWsPTa5",
        "outputId": "7ffebc7e-36ef-47e5-8d3f-165a141ba85b"
      },
      "source": [
        "train_path = \"drive/My Drive/INRIA/Assignment/Objects_Dataset_Images/train\"\n",
        "test_path = \"drive/My Drive/INRIA/Assignment/Objects_Dataset_Images/test\"\n",
        "no_clusters = 50\n",
        "kernel = \"precomputed\"\n",
        "\n",
        "start_time = time.time()\n",
        "kmeans, scale, svm, im_features = trainModel(train_path, no_clusters, kernel)\n",
        "print(\"--- %s seconds ---\" % (time.time() - start_time))\n"
      ],
      "id": "LOLT5IWsPTa5",
      "execution_count": 21,
      "outputs": [
        {
          "output_type": "stream",
          "name": "stdout",
          "text": [
            "Train images path detected.\n",
            "Descriptors vstacked.\n",
            "Descriptors clustered.\n",
            "Images features extracted.\n",
            "Train images normalized.\n"
          ]
        },
        {
          "output_type": "display_data",
          "data": {
            "image/png": "[encoded data removed]",
            "text/plain": [
              "<Figure size 432x288 with 1 Axes>"
            ]
          },
          "metadata": {
            "needs_background": "light"
          }
        },
        {
          "output_type": "stream",
          "name": "stdout",
          "text": [
            "Features histogram plotted.\n",
            "0.5 0.1\n",
            "SVM fitted.\n",
            "Training completed.\n",
            "--- 20.42336082458496 seconds ---\n"
          ]
        }
      ]
    },
    {
      "cell_type": "markdown",
      "metadata": {
        "id": "Q-YljM0sPTa5"
      },
      "source": [
        "### Testing and Data Prepration <a name=\"bovw_test\"></a>"
      ],
      "id": "Q-YljM0sPTa5"
    },
    {
      "cell_type": "code",
      "metadata": {
        "id": "Cd0Gzy5ZPTa6"
      },
      "source": [
        "def testModel(path, kmeans, scale, svm, im_features, no_clusters, kernel):\n",
        "    test_images = getFiles(False, path)\n",
        "    print(\"Test images path detected.\")\n",
        "\n",
        "    count = 0\n",
        "    true = []\n",
        "    descriptor_list = []\n",
        "\n",
        "    name_dict =\t{\n",
        "        \"0\": \"accordion\",\n",
        "        \"1\": \"dollar_bill\",\n",
        "        \"2\": \"motorbike\",\n",
        "        \"3\": \"Soccer_Ball\",\n",
        "    }\n",
        "\n",
        "    sift = cv2.xfeatures2d.SIFT_create()\n",
        "\n",
        "    for img_path in test_images:\n",
        "        img = readImage(img_path)\n",
        "        des = getDescriptors(sift, img)\n",
        "\n",
        "        if(des is not None):\n",
        "            count += 1\n",
        "            descriptor_list.append(des)\n",
        "\n",
        "            if(\"accordion\" in img_path):\n",
        "                true.append(\"accordion\")\n",
        "            elif(\"dollar_bill\" in img_path):\n",
        "                true.append(\"dollar_bill\")\n",
        "            elif(\"motorbike\" in img_path):\n",
        "                true.append(\"motorbike\")\n",
        "            #elif(\"Soccer_Ball\" in img_path):\n",
        "            else:\n",
        "                true.append(\"Soccer_Ball\")\n",
        "\n",
        "    descriptors = vstackDescriptors(descriptor_list)\n",
        "\n",
        "    test_features = extractFeatures(kmeans, descriptor_list, count, no_clusters)\n",
        "\n",
        "    test_features = scale.transform(test_features)\n",
        "    \n",
        "    kernel_test = test_features\n",
        "    if(kernel == \"precomputed\"):\n",
        "        kernel_test = np.dot(test_features, im_features.T)\n",
        "    \n",
        "    predictions = [name_dict[str(int(i))] for i in svm.predict(kernel_test)]\n",
        "    print(\"Test images classified.\")\n",
        "    target_names = ['accordion', 'dollar_bill', 'motorbike','Soccer_Ball']\n",
        "    print(classification_report(true, predictions, target_names=target_names))\n",
        "    #print(confusion_matrix(true,predictions,labels = target_names))\n",
        "    \n",
        "    plotConfusions(true, predictions)\n",
        "    # print(\"Confusion matrixes plotted.\")\n",
        "\n",
        "    # findAccuracy(true, predictions)\n",
        "    # print(\"Accuracy calculated.\")\n",
        "    # print(\"Execution done.\")"
      ],
      "id": "Cd0Gzy5ZPTa6",
      "execution_count": 37,
      "outputs": []
    },
    {
      "cell_type": "code",
      "metadata": {
        "id": "OLBjgHevdloj"
      },
      "source": [
        "from sklearn.metrics import classification_report"
      ],
      "id": "OLBjgHevdloj",
      "execution_count": 24,
      "outputs": []
    },
    {
      "cell_type": "code",
      "metadata": {
        "colab": {
          "base_uri": "https://localhost:8080/",
          "height": 1000
        },
        "id": "b09GW_4rPTa6",
        "outputId": "fa9b19b5-c66b-4cdf-db27-2bfe1268d55c"
      },
      "source": [
        "start_time = time.time()\n",
        "testModel(test_path, kmeans, scale, svm, im_features, no_clusters, kernel)\n",
        "print(\"--- %s seconds ---\" % (time.time() - start_time))"
      ],
      "id": "b09GW_4rPTa6",
      "execution_count": 38,
      "outputs": [
        {
          "output_type": "stream",
          "name": "stdout",
          "text": [
            "Test images path detected.\n",
            "Test images classified.\n",
            "              precision    recall  f1-score   support\n",
            "\n",
            "   accordion       1.00      0.50      0.67         4\n",
            " dollar_bill       0.00      0.00      0.00         0\n",
            "   motorbike       1.00      1.00      1.00         2\n",
            " Soccer_Ball       1.00      1.00      1.00         2\n",
            "\n",
            "    accuracy                           0.75         8\n",
            "   macro avg       0.75      0.62      0.67         8\n",
            "weighted avg       1.00      0.75      0.83         8\n",
            "\n",
            "Confusion matrix, without normalization\n",
            "[[2 2 0 0]\n",
            " [0 0 0 0]\n",
            " [0 0 2 0]\n",
            " [0 0 0 2]]\n",
            "Normalized confusion matrix\n",
            "[[0.5 0.5 0.  0. ]\n",
            " [nan nan nan nan]\n",
            " [0.  0.  1.  0. ]\n",
            " [0.  0.  0.  1. ]]\n"
          ]
        },
        {
          "output_type": "stream",
          "name": "stderr",
          "text": [
            "/usr/local/lib/python3.7/dist-packages/sklearn/metrics/_classification.py:1272: UndefinedMetricWarning: Recall and F-score are ill-defined and being set to 0.0 in labels with no true samples. Use `zero_division` parameter to control this behavior.\n",
            "  _warn_prf(average, modifier, msg_start, len(result))\n",
            "/usr/local/lib/python3.7/dist-packages/ipykernel_launcher.py:97: RuntimeWarning: invalid value encountered in true_divide\n"
          ]
        },
        {
          "output_type": "display_data",
          "data": {
            "image/png": "[encoded data removed]",
            "text/plain": [
              "<Figure size 432x288 with 2 Axes>"
            ]
          },
          "metadata": {
            "needs_background": "light"
          }
        },
        {
          "output_type": "display_data",
          "data": {
            "image/png": "[encoded data removed]",
            "text/plain": [
              "<Figure size 432x288 with 2 Axes>"
            ]
          },
          "metadata": {
            "needs_background": "light"
          }
        },
        {
          "output_type": "stream",
          "name": "stdout",
          "text": [
            "--- 1.4739341735839844 seconds ---\n"
          ]
        }
      ]
    },
    {
      "cell_type": "code",
      "metadata": {
        "id": "V4MzDCUrUKVP"
      },
      "source": [
        ""
      ],
      "id": "V4MzDCUrUKVP",
      "execution_count": null,
      "outputs": []
    }
  ]
}